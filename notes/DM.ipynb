{
 "cells": [
  {
   "cell_type": "markdown",
   "metadata": {},
   "source": [
    "# Il meccanismo di *dispatching*\n",
    "\n",
    "Questa breve nota intende illustrare attraverso una serie di esempi il meccanismo di *dispatching* attraverso il quale viene dapprima selezionata la segnatura del metodo da invocare (durante la fase di compilazione) e quindi individuata l'implementazione da eseguire (durante la fase di esecuzione). \n",
    "\n",
    "Il caso più elementare è quello di una singola classe in cui ci sia un solo metodo con un certo nome (nell'esempio `f`)."
   ]
  },
  {
   "cell_type": "code",
   "execution_count": 135,
   "metadata": {},
   "outputs": [],
   "source": [
    "public class Simple {\n",
    "  public void f() {\n",
    "    System.out.println(\"Simple::f\");\n",
    "  }\n",
    "}"
   ]
  },
  {
   "cell_type": "markdown",
   "metadata": {},
   "source": [
    "In queste circostanze, è evidente che il tipo *apparente* e *concerto* non possono che coincidere e che l'invocazoine di `f` su un oggetto di tipo `Simple` non può che produrre l'invocazione dell'unica implementazione esistente."
   ]
  },
  {
   "cell_type": "code",
   "execution_count": 136,
   "metadata": {},
   "outputs": [
    {
     "name": "stdout",
     "output_type": "stream",
     "text": [
      "Simple::f\n"
     ]
    }
   ],
   "source": [
    "Simple s = new Simple();\n",
    "s.f();"
   ]
  },
  {
   "cell_type": "markdown",
   "metadata": {},
   "source": [
    "## Overloading\n",
    "\n",
    "Se ci sono più metodi col medesimo nome, anche all'interno della stessa classe, ossia c'è un caso di *overloading*, la selezione della segnatura del metodo da invocare segue la logica del minor numero di conversioni (si cerca la segnatura detta *most specific*)."
   ]
  },
  {
   "cell_type": "code",
   "execution_count": 137,
   "metadata": {},
   "outputs": [],
   "source": [
    "public class Overload {\n",
    "  public void f(int x) {\n",
    "    System.out.println(\"Overload::f(int)\");\n",
    "  }\n",
    "  public void f(double x) {\n",
    "    System.out.println(\"Overload::f(double)\");\n",
    "  }\n",
    "}"
   ]
  },
  {
   "cell_type": "markdown",
   "metadata": {},
   "source": [
    "In alcuni casi il numero di conversioni è 0 (come nelle prime due invocazioni seguenti), mentre in altri (la terza invocazione) è possibile effettuare 1 conversione (da `float` a `double`) e non c'è ambiguità."
   ]
  },
  {
   "cell_type": "code",
   "execution_count": 138,
   "metadata": {},
   "outputs": [
    {
     "name": "stdout",
     "output_type": "stream",
     "text": [
      "Overload::f(int)\n",
      "Overload::f(double)\n",
      "Overload::f(double)\n"
     ]
    }
   ],
   "source": [
    "Overload o = new Overload();\n",
    "o.f(1);\n",
    "o.f(1.0);  // 1.0 è un double, nessuna conversione\n",
    "o.f(1.0f); // 1.0f è un float, una conversione"
   ]
  },
  {
   "cell_type": "markdown",
   "metadata": {},
   "source": [
    "Le cose si complicano se, date le segnature dei metodi definiti e l'invocazione da effettuare, esiste più di una segnatura che si adattarebbe alla chiamata a patto di fare uno stesso numero di conversioni."
   ]
  },
  {
   "cell_type": "code",
   "execution_count": 139,
   "metadata": {},
   "outputs": [],
   "source": [
    "public class Overload {\n",
    "  public void f(int x, double y) {\n",
    "    System.out.println(\"Overload::f(int, double)\");\n",
    "  }\n",
    "  public void f(double x, int y) {\n",
    "    System.out.println(\"Overload::f(double, int)\");\n",
    "  }\n",
    "}"
   ]
  },
  {
   "cell_type": "code",
   "execution_count": 140,
   "metadata": {},
   "outputs": [
    {
     "ename": "CompilationException",
     "evalue": "",
     "output_type": "error",
     "traceback": [
      "\u001b[1m\u001b[30m|   \u001b[1m\u001b[30m\u001b[0m\u001b[1m\u001b[30m\u001b[41mo.f\u001b[0m\u001b[1m\u001b[30m(1, 1);\u001b[0m",
      "\u001b[1m\u001b[31mreference to f is ambiguous\u001b[0m",
      "\u001b[1m\u001b[31m  both method f(int,double) in Overload and method f(double,int) in Overload match\u001b[0m",
      ""
     ]
    }
   ],
   "source": [
    "Overload o = new Overload();\n",
    "o.f(1, 1);"
   ]
  },
  {
   "cell_type": "markdown",
   "metadata": {},
   "source": [
    "In questo caso non è possibile individuare la segnatura *most specific* per cui il compilatore: data l'invocazione con due `int`, entrambe i metodi sono invocabili con 1 conversione, pertanto il compialtore non può scegliere quale segnatura selezione. Questo dipende dal tipo di invocazione, è evidente che le invocazioni che non causano conversioni, ad esempio, sono entrambe legittime:"
   ]
  },
  {
   "cell_type": "code",
   "execution_count": 141,
   "metadata": {},
   "outputs": [
    {
     "name": "stdout",
     "output_type": "stream",
     "text": [
      "Overload::f(int, double)\n",
      "Overload::f(double, int)\n"
     ]
    }
   ],
   "source": [
    "o.f(1, 1.0);\n",
    "o.f(1.0, 0);"
   ]
  },
  {
   "cell_type": "markdown",
   "metadata": {},
   "source": [
    "## Ereditarietà\n",
    "\n",
    "L'introduzione di un sottotipo apre la possibilità che su un oggetto di un sottotipo venga invocato un metodo definito per il supertipo."
   ]
  },
  {
   "cell_type": "code",
   "execution_count": 142,
   "metadata": {},
   "outputs": [],
   "source": [
    "public class Above {\n",
    "  public void f() {\n",
    "    System.out.println(\"Above::f\");\n",
    "  }\n",
    "}\n",
    "\n",
    "public class Below extends Above {\n",
    "  public void g() {\n",
    "    System.out.println(\"Below::f\");\n",
    "  }\n",
    "}"
   ]
  },
  {
   "cell_type": "markdown",
   "metadata": {},
   "source": [
    "Per prima cosa, osserviamo che in presenza di un sottotipo il tipo apparente e concreto non devono necessariamente coincidere, si aprono tre possibilità a seconda che il tipo apparente e concreto siano, rispettivamente:\n",
    "* `Above` e `Above`,\n",
    "* `Above` e `Below`,\n",
    "* `Below` e `Below`\n",
    "\n",
    "evidentemente il caso `Below` e `Above` non è possibile in quanto il secondo non è sottotipo del primo.\n",
    "\n",
    "Nel primo caso è possibile solo l'invocazione di `f`"
   ]
  },
  {
   "cell_type": "code",
   "execution_count": 143,
   "metadata": {},
   "outputs": [
    {
     "name": "stdout",
     "output_type": "stream",
     "text": [
      "Above::f\n"
     ]
    }
   ],
   "source": [
    "Above aa = new Above();\n",
    "aa.f();"
   ]
  },
  {
   "cell_type": "markdown",
   "metadata": {},
   "source": [
    "ma non quella di `g`, dato non è definita per tale tipo"
   ]
  },
  {
   "cell_type": "code",
   "execution_count": 144,
   "metadata": {},
   "outputs": [
    {
     "ename": "CompilationException",
     "evalue": "",
     "output_type": "error",
     "traceback": [
      "\u001b[1m\u001b[30m|   \u001b[1m\u001b[30m\u001b[0m\u001b[1m\u001b[30m\u001b[41maa.g\u001b[0m\u001b[1m\u001b[30m();\u001b[0m",
      "\u001b[1m\u001b[31mcannot find symbol\u001b[0m",
      "\u001b[1m\u001b[31m  symbol:   method g()\u001b[0m",
      ""
     ]
    }
   ],
   "source": [
    "aa.g();"
   ]
  },
  {
   "cell_type": "markdown",
   "metadata": {},
   "source": [
    "Nel secondo caso, è possibile invocare `f` perché è visibile (a partire dal tipo apparente) e la sua implementazione (nel tipo concreto) viene ereditata dal supertipo"
   ]
  },
  {
   "cell_type": "code",
   "execution_count": 145,
   "metadata": {},
   "outputs": [
    {
     "name": "stdout",
     "output_type": "stream",
     "text": [
      "Above::f\n"
     ]
    }
   ],
   "source": [
    "Above ab = new Below();\n",
    "ab.f();"
   ]
  },
  {
   "cell_type": "markdown",
   "metadata": {},
   "source": [
    "Però, sebbene il tipo concreto sia dotato di `g`, il compilatore deve scegliere il metodo sulla base del tipo apparente, quindi la chiamata di `g` resta impossibile."
   ]
  },
  {
   "cell_type": "code",
   "execution_count": 146,
   "metadata": {},
   "outputs": [
    {
     "ename": "CompilationException",
     "evalue": "",
     "output_type": "error",
     "traceback": [
      "\u001b[1m\u001b[30m|   \u001b[1m\u001b[30m\u001b[0m\u001b[1m\u001b[30m\u001b[41mab.g\u001b[0m\u001b[1m\u001b[30m();\u001b[0m",
      "\u001b[1m\u001b[31mcannot find symbol\u001b[0m",
      "\u001b[1m\u001b[31m  symbol:   method g()\u001b[0m",
      ""
     ]
    }
   ],
   "source": [
    "ab.g();"
   ]
  },
  {
   "cell_type": "markdown",
   "metadata": {},
   "source": [
    "Nel caso del sottotipo, invece, `g` diventa visibile (e `f` lo è perché ereditata), quindi sono possibili entrambe le invocazioni."
   ]
  },
  {
   "cell_type": "code",
   "execution_count": 147,
   "metadata": {},
   "outputs": [
    {
     "name": "stdout",
     "output_type": "stream",
     "text": [
      "Above::f\n",
      "Below::f\n"
     ]
    }
   ],
   "source": [
    "Below bb = new Below();\n",
    "bb.f();\n",
    "bb.g();"
   ]
  },
  {
   "cell_type": "markdown",
   "metadata": {},
   "source": [
    "## Overriding\n",
    "\n",
    "Il sottotipo può decidere di riscrivere l'implementazione di un metodo ereditato, ossia farne l'*overriding*"
   ]
  },
  {
   "cell_type": "code",
   "execution_count": 64,
   "metadata": {},
   "outputs": [],
   "source": [
    "public class Above {\n",
    "  public void f(double x) {\n",
    "    System.out.println(\"Above::f(double)\");\n",
    "  }\n",
    "}\n",
    "\n",
    "public class Below extends Above {\n",
    "  @Override\n",
    "  public void f(double x) {\n",
    "    System.out.println(\"Below::f(double)\");\n",
    "  }\n",
    "}"
   ]
  },
  {
   "cell_type": "markdown",
   "metadata": {},
   "source": [
    "Affinché ciò avvenga, è però necessario che il metodo riscritto abbia la medesima segnatura di quello nel supertipo. Se usiamo l'annotazione `@Override` il compilatore può aiutarci a scoprire che, poiché la segnatura è diversa, la nuova implementazione non è davvero un *override* (ma solo un *overload* come sarà chiarito nella prossima sezione)!"
   ]
  },
  {
   "cell_type": "code",
   "execution_count": 73,
   "metadata": {},
   "outputs": [
    {
     "ename": "CompilationException",
     "evalue": "",
     "output_type": "error",
     "traceback": [
      "\u001b[1m\u001b[30m|   \u001b[1m\u001b[30m  \u001b[0m\u001b[1m\u001b[30m\u001b[41m@Override\u001b[0m\u001b[1m\u001b[30m\u001b[0m",
      "\u001b[1m\u001b[31mmethod does not override or implement a method from a supertype\u001b[0m",
      ""
     ]
    }
   ],
   "source": [
    "public class BelowErr extends Above {\n",
    "  @Override\n",
    "  public void f(int x) {\n",
    "    System.out.println(\"BelowErr::f(int)\");\n",
    "  }\n",
    "}"
   ]
  },
  {
   "cell_type": "markdown",
   "metadata": {},
   "source": [
    "Tornando a considerare i tre possibili casi di combinazione tra tipo apparente e concreto"
   ]
  },
  {
   "cell_type": "code",
   "execution_count": 69,
   "metadata": {},
   "outputs": [],
   "source": [
    "Above aa = new Above();\n",
    "Above ab = new Below();\n",
    "Below bb = new Below();"
   ]
  },
  {
   "cell_type": "markdown",
   "metadata": {},
   "source": [
    "è ovvio che su `aa` e `bb` l'invocazione corrisponderà alle implementazioni definite nella classe del tipo (apparente e concreto):"
   ]
  },
  {
   "cell_type": "code",
   "execution_count": 71,
   "metadata": {},
   "outputs": [
    {
     "name": "stdout",
     "output_type": "stream",
     "text": [
      "Above::f(double)\n",
      "Below::f(double)\n"
     ]
    }
   ],
   "source": [
    "aa.f(1.0);\n",
    "bb.f(1.0);"
   ]
  },
  {
   "cell_type": "markdown",
   "metadata": {},
   "source": [
    "Il caso interessante è quello in cui il tipo concreto sia il sottotipo; in tal caso (una volta che il compilatore ha determinato che la segnatura da chiamare è `f(double)`), l'inocazione riguarderà però il codice definito nel tipo apparente:"
   ]
  },
  {
   "cell_type": "code",
   "execution_count": 72,
   "metadata": {},
   "outputs": [
    {
     "name": "stdout",
     "output_type": "stream",
     "text": [
      "Below::f(double)\n"
     ]
    }
   ],
   "source": [
    "ab.f(1.0);"
   ]
  },
  {
   "cell_type": "markdown",
   "metadata": {},
   "source": [
    "# Overloading ed ereditarietà\n",
    "\n",
    "Il caso più complesso (e interessante) è quando si mescolano l'*overiding* e l'*overloading*, sopratutto quando quest'ultimo è determinato dall'ereditarietà (ossia quando un metodo del sottotipo effettua l'overloading di uno che è definito nel supertipo)."
   ]
  },
  {
   "cell_type": "code",
   "execution_count": 75,
   "metadata": {},
   "outputs": [],
   "source": [
    "public class Above {\n",
    "  public void f(double x) {\n",
    "    System.out.println(\"Above::f(double)\");\n",
    "  }\n",
    "}"
   ]
  },
  {
   "cell_type": "code",
   "execution_count": 81,
   "metadata": {},
   "outputs": [],
   "source": [
    "public class Below extends Above {\n",
    "  public void f(int x) {\n",
    "    System.out.println(\"Below::f(int)\");\n",
    "  }\n",
    "}"
   ]
  },
  {
   "cell_type": "markdown",
   "metadata": {},
   "source": [
    "Come nel caso precedente, i casi in cui il tipo apparente coincide con quello concreto e non ci sono conversioni, sono banali:"
   ]
  },
  {
   "cell_type": "code",
   "execution_count": 88,
   "metadata": {},
   "outputs": [
    {
     "name": "stdout",
     "output_type": "stream",
     "text": [
      "Above::f(double)\n",
      "Below::f(int)\n"
     ]
    }
   ],
   "source": [
    "Above aa = new Above();\n",
    "Below bb = new Below();\n",
    "\n",
    "aa.f(1.0);\n",
    "bb.f(1);"
   ]
  },
  {
   "cell_type": "markdown",
   "metadata": {},
   "source": [
    "Nel caso del supertipo, la chiamata con argomento `int` seleziona l'unico metodo (la cui segnatura è compatibile grazie ad una conversione)"
   ]
  },
  {
   "cell_type": "code",
   "execution_count": 92,
   "metadata": {},
   "outputs": [
    {
     "name": "stdout",
     "output_type": "stream",
     "text": [
      "Above::f(double)\n"
     ]
    }
   ],
   "source": [
    "aa.f(1);"
   ]
  },
  {
   "cell_type": "markdown",
   "metadata": {},
   "source": [
    "In quello del sottotipo, la chiamata con argomento `double` seleziona il metodo ereditato (che non richiede conversioni)"
   ]
  },
  {
   "cell_type": "code",
   "execution_count": 98,
   "metadata": {},
   "outputs": [
    {
     "name": "stdout",
     "output_type": "stream",
     "text": [
      "Above::f(double)\n"
     ]
    }
   ],
   "source": [
    "bb.f(1.0);"
   ]
  },
  {
   "cell_type": "markdown",
   "metadata": {},
   "source": [
    "La cosa si fa interessante se il tipo apparente non coincide con quello concreto. In tal caso, la chiamata con argomento `double` seleziona il metodo del tipo apparente con tale segnatura:"
   ]
  },
  {
   "cell_type": "code",
   "execution_count": 100,
   "metadata": {},
   "outputs": [
    {
     "name": "stdout",
     "output_type": "stream",
     "text": [
      "Above::f(double)\n"
     ]
    }
   ],
   "source": [
    "ab.f(1.0);"
   ]
  },
  {
   "cell_type": "markdown",
   "metadata": {},
   "source": [
    "Cosa succede però con argomento `int`? Dal momento che il sottotipo ha un metodo che non ricihede conversioni, ci si potrebbe attendere che sia esso a venir chiamato."
   ]
  },
  {
   "cell_type": "code",
   "execution_count": 103,
   "metadata": {},
   "outputs": [
    {
     "name": "stdout",
     "output_type": "stream",
     "text": [
      "Above::f(double)\n"
     ]
    }
   ],
   "source": [
    "ab.f(1);"
   ]
  },
  {
   "cell_type": "markdown",
   "metadata": {},
   "source": [
    "Questo però non avviene perché il compilatore seleziona la segnatura sulla base del tipo apparente, per `Above` la segnatura selezionata è `f(double)` che è compatibile grazie ad una conversione.\n",
    "\n",
    "Una volta selezionata la segnatura, l'invocazione selezionerà l'implementazione di un metodo di tale segnatura nel sottotipo; tale metodo non è definito nel sottotipo, ma è ereditato dal supertipo.\n",
    "\n",
    "## Overriding e overloading (e ereditarità)\n",
    "\n",
    "Avendo compreso i meccanismi che regolano i casi precedenti, non è difficile comprendere un caso in cui si presentino assieme tutte le possibilità."
   ]
  },
  {
   "cell_type": "code",
   "execution_count": 107,
   "metadata": {},
   "outputs": [],
   "source": [
    "public class Above {\n",
    "  public void f(double x) {\n",
    "    System.out.println(\"Above::f(double)\");\n",
    "  }\n",
    "}\n",
    "\n",
    "public class Below extends Above {\n",
    "  public void f(int x) {\n",
    "    System.out.println(\"Below::f(int)\");\n",
    "  }\n",
    "  @Override\n",
    "  public void f(double x) {\n",
    "    System.out.println(\"Below::f(double)\");\n",
    "  }\n",
    "}"
   ]
  },
  {
   "cell_type": "markdown",
   "metadata": {},
   "source": [
    "Restano come sempre i casi banali (tipo apparente coincidente con il concreto, nessuna conversione):"
   ]
  },
  {
   "cell_type": "code",
   "execution_count": 118,
   "metadata": {},
   "outputs": [
    {
     "name": "stdout",
     "output_type": "stream",
     "text": [
      "Above::f(double)\n",
      "Below::f(int)\n",
      "Below::f(double)\n"
     ]
    }
   ],
   "source": [
    "Above aa = new Above();\n",
    "Below bb = new Below();\n",
    "\n",
    "aa.f(1.0);\n",
    "bb.f(1);\n",
    "bb.f(1.0);"
   ]
  },
  {
   "cell_type": "markdown",
   "metadata": {},
   "source": [
    "Nel caso del supertipo, l'invocazione col tipo `int` sarà soddisfatta tramite una conversione"
   ]
  },
  {
   "cell_type": "code",
   "execution_count": 121,
   "metadata": {},
   "outputs": [
    {
     "name": "stdout",
     "output_type": "stream",
     "text": [
      "Above::f(double)\n"
     ]
    }
   ],
   "source": [
    "aa.f(1);"
   ]
  },
  {
   "cell_type": "markdown",
   "metadata": {},
   "source": [
    "Nel caso in cui il tipo apparente è diverso dal concreto, quale che sia il tipo dell'argomento, verrà selezionata la segnatura `f(double)` che (in quest'ultimo caso grazie all'overriding) trova la sua implemetazione nel sottotipo:"
   ]
  },
  {
   "cell_type": "code",
   "execution_count": 123,
   "metadata": {},
   "outputs": [
    {
     "name": "stdout",
     "output_type": "stream",
     "text": [
      "Below::f(double)\n",
      "Below::f(double)\n"
     ]
    }
   ],
   "source": [
    "Above ab = new Below();\n",
    "\n",
    "ab.f(1);\n",
    "ab.f(1.0);"
   ]
  },
  {
   "cell_type": "markdown",
   "metadata": {},
   "source": [
    "Su `ab` non c'è verso di ottenere l'invocazione del metodo di `Below` con segnatura `f(int)`!"
   ]
  }
 ],
 "metadata": {
  "kernelspec": {
   "display_name": "Java",
   "language": "java",
   "name": "python3810jvsc74a57bd0047f895acca5a400278c0b498b5070a9dbb59a635065a5df27c9a374c64d69c4"
  },
  "language_info": {
   "codemirror_mode": "java",
   "file_extension": ".jshell",
   "mimetype": "text/x-java-source",
   "name": "Java",
   "pygments_lexer": "java",
   "version": "17+35-2724"
  },
  "orig_nbformat": 4
 },
 "nbformat": 4,
 "nbformat_minor": 2
}
